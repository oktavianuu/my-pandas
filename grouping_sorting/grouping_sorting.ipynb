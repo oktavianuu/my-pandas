{
 "cells": [
  {
   "cell_type": "code",
   "execution_count": 1,
   "metadata": {},
   "outputs": [],
   "source": [
    "import pandas as pd\n",
    "pd.set_option('display.max_rows', 5)\n",
    "data = pd.read_csv(\"/Users/oktavianu/Documents/my-pandas/winemag-data-130k-v2.csv\", index_col=0)"
   ]
  },
  {
   "cell_type": "code",
   "execution_count": 2,
   "metadata": {},
   "outputs": [
    {
     "data": {
      "text/plain": [
       "points\n",
       "80     397\n",
       "81     692\n",
       "      ... \n",
       "99      33\n",
       "100     19\n",
       "Name: points, Length: 21, dtype: int64"
      ]
     },
     "execution_count": 2,
     "metadata": {},
     "output_type": "execute_result"
    }
   ],
   "source": [
    "# One function we've been using heavily thus far is the value_counts() function. We can replicate what value_counts() does by doing the following:\n",
    "data.groupby('points').points.count()"
   ]
  },
  {
   "cell_type": "code",
   "execution_count": 3,
   "metadata": {},
   "outputs": [
    {
     "data": {
      "text/plain": [
       "points\n",
       "80      5.0\n",
       "81      5.0\n",
       "       ... \n",
       "99     44.0\n",
       "100    80.0\n",
       "Name: price, Length: 21, dtype: float64"
      ]
     },
     "execution_count": 3,
     "metadata": {},
     "output_type": "execute_result"
    }
   ],
   "source": [
    "# groupby() created a group of reviews which allotted the same point values to the given wines. Then, for each of these groups, we grabbed the points() column and \n",
    "# counted how many times it appeared. value_counts() is just a shortcut to this groupby() operation.\n",
    "\n",
    "# We can use any of the summary functions we've used before with this data. For example, to get the cheapest wine in each point value category, we can do the following:\n",
    "\n",
    "data.groupby('points').price.min()"
   ]
  },
  {
   "cell_type": "code",
   "execution_count": null,
   "metadata": {},
   "outputs": [],
   "source": [
    "# We can think of each group we generate as being a slice of our DataFrame containing only data with values that match. This DataFrame is accessible to us directly using \n",
    "# the apply() method, and we can then manipulate the data in any way we see fit. For example, here's one way of selecting the name of the first wine reviewed from each winery \n",
    "# in the dataset:"
   ]
  }
 ],
 "metadata": {
  "kernelspec": {
   "display_name": "oktavianu",
   "language": "python",
   "name": "python3"
  },
  "language_info": {
   "codemirror_mode": {
    "name": "ipython",
    "version": 3
   },
   "file_extension": ".py",
   "mimetype": "text/x-python",
   "name": "python",
   "nbconvert_exporter": "python",
   "pygments_lexer": "ipython3",
   "version": "3.11.4"
  }
 },
 "nbformat": 4,
 "nbformat_minor": 2
}
